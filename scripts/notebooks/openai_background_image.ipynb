{
 "cells": [
  {
   "cell_type": "code",
   "execution_count": 1,
   "id": "b120b915-ad96-472c-b5ed-8fdfd53f5f58",
   "metadata": {},
   "outputs": [],
   "source": [
    "#Generate a beautiful certificate background with elegant design, soft colors, and a professional look suitable for honoring achievements. Consider incorporating subtle patterns and a border that complements the overall aesthetic."
   ]
  },
  {
   "cell_type": "code",
   "execution_count": 6,
   "id": "5bd2c2cf-6b75-44b2-a3ec-59ec937084fc",
   "metadata": {},
   "outputs": [],
   "source": [
    "from openai import OpenAI\n",
    "\n",
    "from dotenv import load_dotenv\n",
    "load_dotenv()\n",
    "\n",
    "openai_key = os.getenv('api_key')\n",
    "client = OpenAI(api_key=openai_key)\n",
    "\n",
    "prompt = \"\"\"\n",
    "Generate  a plain background image with only the following specification:\n",
    "\n",
    "Full Name: [Provide space for recipient's name]\n",
    "Date: [Provide space for completion date]\n",
    "Signature: [Provide space for authorized person's signature]\n",
    "\n",
    "\"\"\"\n",
    "response = client.images.generate(\n",
    "  model=\"dall-e-3\",\n",
    "  prompt=prompt,\n",
    "  size=\"1024x1024\",\n",
    "  quality=\"standard\",\n",
    "  n=1,\n",
    ")\n",
    "\n",
    "image_url = response.data[0].url"
   ]
  },
  {
   "cell_type": "code",
   "execution_count": 7,
   "id": "c62253a6-d565-434c-b2ee-a58ac1adc9f8",
   "metadata": {},
   "outputs": [
    {
     "name": "stdout",
     "output_type": "stream",
     "text": [
      "https://oaidalleapiprodscus.blob.core.windows.net/private/org-57DHbubaUsKcpEwBCHTVrS6b/user-ZPTxrE5Z3of20YjzdGT5LsFj/img-d0C9mnnTF0a5VACd01PxMpOh.png?st=2024-01-10T17%3A01%3A47Z&se=2024-01-10T19%3A01%3A47Z&sp=r&sv=2021-08-06&sr=b&rscd=inline&rsct=image/png&skoid=6aaadede-4fb3-4698-a8f6-684d7786b067&sktid=a48cca56-e6da-484e-a814-9c849652bcb3&skt=2024-01-10T02%3A13%3A15Z&ske=2024-01-11T02%3A13%3A15Z&sks=b&skv=2021-08-06&sig=/Y2HLjroV0jGyFJkKeEN7gyZY19P5M6A/Pq7U3OaRtM%3D\n"
     ]
    }
   ],
   "source": [
    "print(image_url)"
   ]
  },
  {
   "cell_type": "code",
   "execution_count": 43,
   "id": "eff0de97-1f53-4ccd-908d-15ccca146f2f",
   "metadata": {},
   "outputs": [],
   "source": [
    "# Step 3: Add dynamic information to the certificate\n",
    "certificate_image = cv2.imread(\"certificate_background.png\")\n",
    "full_name = \"John Doe\"\n",
    "company_name = \"10 Academy\"\n",
    "certificate_title = \"Certificate of Completion\"\n",
    "logo = cv2.imread(\"./logo.png\")  # Replace with the path to your logo image\n",
    "date = \"January 1, 2024\"\n",
    "\n",
    "desired_logo_width = 150  # Adjust this according to your preference\n",
    "logo_height, logo_width, _ = logo.shape\n",
    "logo_resized = cv2.resize(logo, (desired_logo_width, int(logo_height * (desired_logo_width / logo_width))))\n"
   ]
  },
  {
   "cell_type": "code",
   "execution_count": 44,
   "id": "ec2925fa-a920-419c-b1d0-8f533f2589a6",
   "metadata": {
    "scrolled": true
   },
   "outputs": [
    {
     "data": {
      "text/plain": [
       "True"
      ]
     },
     "execution_count": 44,
     "metadata": {},
     "output_type": "execute_result"
    }
   ],
   "source": [
    "full_name_position = (100, 200)\n",
    "company_name_position = (50, 50)\n",
    "certificate_title_position = (300, 100)\n",
    "logo_position = (50, 400)\n",
    "date_position = (500, 500)\n",
    "\n",
    "cv2.putText(certificate_image, full_name, full_name_position, cv2.FONT_HERSHEY_SIMPLEX, 1, (0, 0, 0), 2)\n",
    "cv2.putText(certificate_image, company_name, company_name_position, cv2.FONT_HERSHEY_SIMPLEX, 1, (0, 0, 0), 2)\n",
    "cv2.putText(certificate_image, certificate_title, certificate_title_position, cv2.FONT_HERSHEY_SIMPLEX, 1, (0, 0, 0), 2)\n",
    "certificate_image[logo_position[1]:logo_position[1] + logo_resized.shape[0], logo_position[0]:logo_position[0] + logo_resized.shape[1]] = logo_resized\n",
    "cv2.putText(certificate_image, date, date_position, cv2.FONT_HERSHEY_SIMPLEX, 1, (0, 0, 0), 2)\n",
    "# Save the final certificate image\n",
    "cv2.imwrite(\"final_certificate.png\", certificate_image)\n"
   ]
  },
  {
   "cell_type": "code",
   "execution_count": null,
   "id": "0818f960-7605-4b64-9509-9e94ad776c27",
   "metadata": {},
   "outputs": [],
   "source": []
  }
 ],
 "metadata": {
  "kernelspec": {
   "display_name": "Python 3 (ipykernel)",
   "language": "python",
   "name": "python3"
  },
  "language_info": {
   "codemirror_mode": {
    "name": "ipython",
    "version": 3
   },
   "file_extension": ".py",
   "mimetype": "text/x-python",
   "name": "python",
   "nbconvert_exporter": "python",
   "pygments_lexer": "ipython3",
   "version": "3.10.12"
  }
 },
 "nbformat": 4,
 "nbformat_minor": 5
}
