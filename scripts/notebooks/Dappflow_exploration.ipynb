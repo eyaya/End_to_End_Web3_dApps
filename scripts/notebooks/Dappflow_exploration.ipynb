{
 "cells": [
  {
   "cell_type": "code",
   "execution_count": 1,
   "metadata": {},
   "outputs": [],
   "source": [
    "import json"
   ]
  },
  {
   "cell_type": "code",
   "execution_count": 11,
   "metadata": {},
   "outputs": [],
   "source": [
    "import base64\n",
    "from algosdk.v2client import algod\n",
    "from algosdk import account, mnemonic\n",
    "from algosdk.transaction import AssetConfigTxn, AssetTransferTxn, AssetFreezeTxn\n",
    "from algosdk.transaction import *"
   ]
  },
  {
   "cell_type": "code",
   "execution_count": null,
   "metadata": {},
   "outputs": [],
   "source": []
  },
  {
   "cell_type": "markdown",
   "metadata": {},
   "source": [
    "# Accounts"
   ]
  },
  {
   "cell_type": "code",
   "execution_count": 4,
   "metadata": {},
   "outputs": [],
   "source": [
    "mnemonic1 = \"kiss hope rubber day sphere identify journey material just depend case camp wash like simple dash push tone truck change chicken peace wrong able glove\"\n",
    "mnemonic2 = \"soup window nice vapor chimney also sugar cram present dry blame obscure illegal include scheme flame gaze twist crop confirm vault economy hip abandon favorite\"\n",
    "mnemonic3 = \"note mix true cream demise inside bench ozone cinnamon frame charge crush into travel ensure blanket rose volume blade humor truly final park abstract boat\""
   ]
  },
  {
   "cell_type": "code",
   "execution_count": 5,
   "metadata": {},
   "outputs": [
    {
     "ename": "AttributeError",
     "evalue": "module 'algosdk.mnemonic' has no attribute 'to_public_key'",
     "output_type": "error",
     "traceback": [
      "\u001b[0;31m---------------------------------------------------------------------------\u001b[0m",
      "\u001b[0;31mAttributeError\u001b[0m                            Traceback (most recent call last)",
      "Cell \u001b[0;32mIn[5], line 7\u001b[0m\n\u001b[1;32m      5\u001b[0m \u001b[38;5;28;01mfor\u001b[39;00m m \u001b[38;5;129;01min\u001b[39;00m [mnemonic1, mnemonic2, mnemonic3]:\n\u001b[1;32m      6\u001b[0m     accounts[counter] \u001b[38;5;241m=\u001b[39m {}\n\u001b[0;32m----> 7\u001b[0m     accounts[counter][\u001b[38;5;124m'\u001b[39m\u001b[38;5;124mpk\u001b[39m\u001b[38;5;124m'\u001b[39m] \u001b[38;5;241m=\u001b[39m \u001b[43mmnemonic\u001b[49m\u001b[38;5;241;43m.\u001b[39;49m\u001b[43mto_public_key\u001b[49m(m)\n\u001b[1;32m      8\u001b[0m     accounts[counter][\u001b[38;5;124m'\u001b[39m\u001b[38;5;124msk\u001b[39m\u001b[38;5;124m'\u001b[39m] \u001b[38;5;241m=\u001b[39m mnemonic\u001b[38;5;241m.\u001b[39mto_private_key(m)\n\u001b[1;32m      9\u001b[0m     counter \u001b[38;5;241m+\u001b[39m\u001b[38;5;241m=\u001b[39m \u001b[38;5;241m1\u001b[39m\n",
      "\u001b[0;31mAttributeError\u001b[0m: module 'algosdk.mnemonic' has no attribute 'to_public_key'"
     ]
    }
   ],
   "source": [
    "# For ease of reference, add account public and private keys to\n",
    "# an accounts dict.\n",
    "accounts = {}\n",
    "counter = 1\n",
    "for m in [mnemonic1, mnemonic2, mnemonic3]:\n",
    "    accounts[counter] = {}\n",
    "    accounts[counter]['pk'] = mnemonic.to_public_key(m)\n",
    "    accounts[counter]['sk'] = mnemonic.to_private_key(m)\n",
    "    counter += 1"
   ]
  },
  {
   "cell_type": "markdown",
   "metadata": {},
   "source": [
    "# Connect to Client"
   ]
  },
  {
   "cell_type": "code",
   "execution_count": 6,
   "metadata": {},
   "outputs": [],
   "source": [
    "# Specify the node address and token.\n",
    "\n",
    "algod_address = \"http://localhost:4001\"\n",
    "algod_token = \"aaaaaaaaaaaaaaaaaaaaaaaaaaaaaaaaaaaaaaaaaaaaaaaaaaaaaaaaaaaaaaaa\"\n",
    "\n",
    "# Initialize an algod client\n",
    "algod_client = algod.AlgodClient(algod_token=algod_token, algod_address=algod_address)"
   ]
  },
  {
   "cell_type": "code",
   "execution_count": 7,
   "metadata": {},
   "outputs": [
    {
     "ename": "KeyError",
     "evalue": "'pk'",
     "output_type": "error",
     "traceback": [
      "\u001b[0;31m---------------------------------------------------------------------------\u001b[0m",
      "\u001b[0;31mKeyError\u001b[0m                                  Traceback (most recent call last)",
      "Cell \u001b[0;32mIn[7], line 1\u001b[0m\n\u001b[0;32m----> 1\u001b[0m \u001b[38;5;28mprint\u001b[39m(\u001b[38;5;124m\"\u001b[39m\u001b[38;5;124mAccount 1 address: \u001b[39m\u001b[38;5;132;01m{}\u001b[39;00m\u001b[38;5;124m\"\u001b[39m\u001b[38;5;241m.\u001b[39mformat(\u001b[43maccounts\u001b[49m\u001b[43m[\u001b[49m\u001b[38;5;241;43m1\u001b[39;49m\u001b[43m]\u001b[49m\u001b[43m[\u001b[49m\u001b[38;5;124;43m'\u001b[39;49m\u001b[38;5;124;43mpk\u001b[39;49m\u001b[38;5;124;43m'\u001b[39;49m\u001b[43m]\u001b[49m))\n\u001b[1;32m      2\u001b[0m \u001b[38;5;28mprint\u001b[39m(\u001b[38;5;124m\"\u001b[39m\u001b[38;5;124mAccount 2 address: \u001b[39m\u001b[38;5;132;01m{}\u001b[39;00m\u001b[38;5;124m\"\u001b[39m\u001b[38;5;241m.\u001b[39mformat(accounts[\u001b[38;5;241m2\u001b[39m][\u001b[38;5;124m'\u001b[39m\u001b[38;5;124mpk\u001b[39m\u001b[38;5;124m'\u001b[39m]))\n",
      "\u001b[0;31mKeyError\u001b[0m: 'pk'"
     ]
    }
   ],
   "source": [
    "print(\"Account 1 address: {}\".format(accounts[1]['pk']))\n",
    "print(\"Account 2 address: {}\".format(accounts[2]['pk']))"
   ]
  },
  {
   "cell_type": "markdown",
   "metadata": {},
   "source": [
    "# Create Asset (Minting)"
   ]
  },
  {
   "cell_type": "markdown",
   "metadata": {},
   "source": [
    "* Account 1 creates an asset called latinum and\n",
    "* sets Account 2 as the manager, reserve, freeze, and clawback address."
   ]
  },
  {
   "cell_type": "code",
   "execution_count": 9,
   "metadata": {},
   "outputs": [],
   "source": [
    "# Get network params for transactions before every transaction.\n",
    "params = algod_client.suggested_params()\n",
    "\n",
    "# Account 1 creates an asset called latinum and\n",
    "# sets Account 2 as the manager, reserve, freeze, and clawback address.\n",
    "# Asset Creation transaction\n",
    "\n",
    "txn = AssetConfigTxn(\n",
    "    sender=accounts[1]['pk'],\n",
    "    sp=params,\n",
    "    total=1000,\n",
    "    default_frozen=False,\n",
    "    unit_name=\"LATINUM\",                                                    \n",
    "    asset_name=\"latinum\",\n",
    "    manager=accounts[1]['pk'],\n",
    "                                                                       \n",
    "    freeze=accounts[1]['pk'],\n",
    "    clawback=accounts[1]['pk'],\n",
    "    url=\"https://path/to/my/asset/details\", \n",
    "    decimals=0)\n",
    "    \n",
    "# Sign with secret key of creator\n",
    "stxn = txn.sign(accounts[1]['sk'])\n"
   ]
  },
  {
   "cell_type": "code",
   "execution_count": 10,
   "metadata": {},
   "outputs": [
    {
     "name": "stdout",
     "output_type": "stream",
     "text": [
      "Signed transaction with txID: ZGYNZRHP2BTCJOCYJKVWAQIDAF2LCKLYAPWOQ4SST3ALUWXUZRAQ\n",
      "TXID:  ZGYNZRHP2BTCJOCYJKVWAQIDAF2LCKLYAPWOQ4SST3ALUWXUZRAQ\n",
      "Result confirmed in round: 2\n"
     ]
    }
   ],
   "source": [
    "# Send the transaction to the network and retrieve the txid.\n",
    "try:\n",
    "    txid = algod_client.send_transaction(stxn)\n",
    "    print(\"Signed transaction with txID: {}\".format(txid))\n",
    "    # Wait for the transaction to be confirmed\n",
    "    confirmed_txn = wait_for_confirmation(algod_client, txid, 4)  \n",
    "    print(\"TXID: \", txid)\n",
    "    print(\"Result confirmed in round: {}\".format(confirmed_txn['confirmed-round']))\n",
    "   \n",
    "except Exception as err:\n",
    "    print(err)\n",
    "# Retrieve the asset ID of the newly created asset by first\n",
    "# ensuring that the creation transaction was confirmed,\n",
    "# then grabbing the asset id from the transaction."
   ]
  },
  {
   "cell_type": "code",
   "execution_count": 11,
   "metadata": {},
   "outputs": [
    {
     "name": "stdout",
     "output_type": "stream",
     "text": [
      "Transaction information: {\n",
      "    \"asset-index\": 1002,\n",
      "    \"confirmed-round\": 2,\n",
      "    \"pool-error\": \"\",\n",
      "    \"txn\": {\n",
      "        \"sig\": \"3RjUXHhpClMy+J2oQXgTLuc01bSat09WzML9DTaj0CxIsCo9pP5LQpEIekq6jxxJzTe1kL1fXJKFRPkPbNLnDg==\",\n",
      "        \"txn\": {\n",
      "            \"apar\": {\n",
      "                \"an\": \"latinum\",\n",
      "                \"au\": \"https://path/to/my/asset/details\",\n",
      "                \"c\": \"FTHK4OKIVNDJWLGFJZPO25XYETWJWFDUYPROWHZ6LHHNELUNEWWNP6RMHI\",\n",
      "                \"f\": \"FTHK4OKIVNDJWLGFJZPO25XYETWJWFDUYPROWHZ6LHHNELUNEWWNP6RMHI\",\n",
      "                \"m\": \"FTHK4OKIVNDJWLGFJZPO25XYETWJWFDUYPROWHZ6LHHNELUNEWWNP6RMHI\",\n",
      "                \"r\": \"FTHK4OKIVNDJWLGFJZPO25XYETWJWFDUYPROWHZ6LHHNELUNEWWNP6RMHI\",\n",
      "                \"t\": 1000,\n",
      "                \"un\": \"LATINUM\"\n",
      "            },\n",
      "            \"fee\": 1000,\n",
      "            \"fv\": 1,\n",
      "            \"gen\": \"sandnet-v1\",\n",
      "            \"gh\": \"MlInopO7QUmtjVCotTfxhehLOqAnFdg6molUtA5nxi0=\",\n",
      "            \"lv\": 1001,\n",
      "            \"snd\": \"FTHK4OKIVNDJWLGFJZPO25XYETWJWFDUYPROWHZ6LHHNELUNEWWNP6RMHI\",\n",
      "            \"type\": \"acfg\"\n",
      "        }\n",
      "    }\n",
      "}\n"
     ]
    }
   ],
   "source": [
    "print(\"Transaction information: {}\".format(\n",
    "    json.dumps(confirmed_txn, indent=4)))"
   ]
  },
  {
   "cell_type": "code",
   "execution_count": 17,
   "metadata": {},
   "outputs": [],
   "source": [
    "#   Utility function used to print created asset for account and assetid\n",
    "def print_created_asset(algodclient, account, assetid):    \n",
    "    # note: if you have an indexer instance available it is easier to just use this\n",
    "    # response = myindexer.accounts(asset_id = assetid)\n",
    "    # then use 'account_info['created-assets'][0] to get info on the created asset\n",
    "    account_info = algodclient.account_info(account)\n",
    "    idx = 0;\n",
    "    for my_account_info in account_info['created-assets']:\n",
    "        scrutinized_asset = account_info['created-assets'][idx]\n",
    "        idx = idx + 1       \n",
    "        if (scrutinized_asset['index'] == assetid):\n",
    "            print(\"Asset ID: {}\".format(scrutinized_asset['index']))\n",
    "            print(json.dumps(my_account_info['params'], indent=4))\n",
    "            break\n",
    "\n",
    "#   Utility function used to print asset holding for account and assetid\n",
    "def print_asset_holding(algodclient, account, assetid):\n",
    "    # note: if you have an indexer instance available it is easier to just use this\n",
    "    # response = myindexer.accounts(asset_id = assetid)\n",
    "    # then loop thru the accounts returned and match the account you are looking for\n",
    "    account_info = algodclient.account_info(account)\n",
    "    idx = 0\n",
    "    for my_account_info in account_info['assets']:\n",
    "        scrutinized_asset = account_info['assets'][idx]\n",
    "        idx = idx + 1        \n",
    "        if (scrutinized_asset['asset-id'] == assetid):\n",
    "            print(\"Asset ID: {}\".format(scrutinized_asset['asset-id']))\n",
    "            print(json.dumps(scrutinized_asset, indent=4))\n",
    "            break\n"
   ]
  },
  {
   "cell_type": "code",
   "execution_count": 18,
   "metadata": {},
   "outputs": [
    {
     "name": "stdout",
     "output_type": "stream",
     "text": [
      "Asset ID: 1002\n",
      "{\n",
      "    \"clawback\": \"FTHK4OKIVNDJWLGFJZPO25XYETWJWFDUYPROWHZ6LHHNELUNEWWNP6RMHI\",\n",
      "    \"creator\": \"FTHK4OKIVNDJWLGFJZPO25XYETWJWFDUYPROWHZ6LHHNELUNEWWNP6RMHI\",\n",
      "    \"decimals\": 0,\n",
      "    \"default-frozen\": false,\n",
      "    \"freeze\": \"FTHK4OKIVNDJWLGFJZPO25XYETWJWFDUYPROWHZ6LHHNELUNEWWNP6RMHI\",\n",
      "    \"manager\": \"FTHK4OKIVNDJWLGFJZPO25XYETWJWFDUYPROWHZ6LHHNELUNEWWNP6RMHI\",\n",
      "    \"name\": \"latinum\",\n",
      "    \"name-b64\": \"bGF0aW51bQ==\",\n",
      "    \"reserve\": \"FTHK4OKIVNDJWLGFJZPO25XYETWJWFDUYPROWHZ6LHHNELUNEWWNP6RMHI\",\n",
      "    \"total\": 1000,\n",
      "    \"unit-name\": \"LATINUM\",\n",
      "    \"unit-name-b64\": \"TEFUSU5VTQ==\",\n",
      "    \"url\": \"https://path/to/my/asset/details\",\n",
      "    \"url-b64\": \"aHR0cHM6Ly9wYXRoL3RvL215L2Fzc2V0L2RldGFpbHM=\"\n",
      "}\n",
      "Asset ID: 1002\n",
      "{\n",
      "    \"amount\": 1000,\n",
      "    \"asset-id\": 1002,\n",
      "    \"is-frozen\": false\n",
      "}\n"
     ]
    }
   ],
   "source": [
    "try:\n",
    "    # Pull account info for the creator\n",
    "    # account_info = algod_client.account_info(accounts[1]['pk'])\n",
    "    # get asset_id from tx\n",
    "    # Get the new asset's information from the creator account\n",
    "    ptx = algod_client.pending_transaction_info(txid)\n",
    "    asset_id = ptx[\"asset-index\"]\n",
    "    print_created_asset(algod_client, accounts[1]['pk'], asset_id)\n",
    "    print_asset_holding(algod_client, accounts[1]['pk'], asset_id)\n",
    "except Exception as e:\n",
    "    print(e)"
   ]
  },
  {
   "cell_type": "markdown",
   "metadata": {},
   "source": [
    "# Change the Manager"
   ]
  },
  {
   "cell_type": "markdown",
   "metadata": {},
   "source": [
    "The current manager(Account 2) issues an asset configuration transaction that assigns Account 1 as the new manager."
   ]
  },
  {
   "cell_type": "code",
   "execution_count": 27,
   "metadata": {},
   "outputs": [],
   "source": [
    "# Keep reserve, freeze, and clawback address same as before, i.e. account 2\n",
    "params = algod_client.suggested_params()\n",
    "# comment these two lines if you want to use suggested params\n",
    "# params.fee = 1000\n",
    "# params.flat_fee = True\n",
    "\n",
    "# asset_id = 328952;\n",
    "\n",
    "txn = AssetConfigTxn(\n",
    "    sender=accounts[1]['pk'],\n",
    "    sp=params,\n",
    "    index=asset_id, \n",
    "    manager=accounts[3]['pk'],\n",
    "    reserve=accounts[1]['pk'],\n",
    "    freeze=accounts[1]['pk'],\n",
    "    clawback=accounts[1]['pk'])\n",
    "# sign by the current manager - Account 2\n",
    "stxn = txn.sign(accounts[1]['sk'])\n",
    "# txid = algod_client.send_transaction(stxn)\n",
    "# print(txid)"
   ]
  },
  {
   "cell_type": "code",
   "execution_count": 28,
   "metadata": {},
   "outputs": [
    {
     "name": "stdout",
     "output_type": "stream",
     "text": [
      "Signed transaction with txID: UGAG7ARQ3XPWAVVMERIQGGVNSI6R24PB6I6UJCEONR5GTMSYVJFA\n",
      "TXID:  UGAG7ARQ3XPWAVVMERIQGGVNSI6R24PB6I6UJCEONR5GTMSYVJFA\n",
      "Result confirmed in round: 7\n"
     ]
    }
   ],
   "source": [
    "# Wait for the transaction to be confirmed\n",
    "# Send the transaction to the network and retrieve the txid.\n",
    "try:\n",
    "    txid = algod_client.send_transaction(stxn)\n",
    "    print(\"Signed transaction with txID: {}\".format(txid))\n",
    "    # Wait for the transaction to be confirmed\n",
    "    confirmed_txn = wait_for_confirmation(algod_client, txid, 4) \n",
    "    print(\"TXID: \", txid)\n",
    "    print(\"Result confirmed in round: {}\".format(confirmed_txn['confirmed-round']))\n",
    " \n",
    "except Exception as err:\n",
    "    print(err)"
   ]
  },
  {
   "cell_type": "code",
   "execution_count": 30,
   "metadata": {},
   "outputs": [],
   "source": [
    "# Check asset info to view change in management. manager should now be account 1\n",
    "print_created_asset(algod_client, accounts[3]['pk'], asset_id)"
   ]
  },
  {
   "cell_type": "markdown",
   "metadata": {},
   "source": [
    "# Opt-in"
   ]
  },
  {
   "cell_type": "code",
   "execution_count": 20,
   "metadata": {},
   "outputs": [],
   "source": [
    "# OPT-IN\n",
    "\n",
    "# Check if asset_id is in account 3's asset holdings prior\n",
    "# to opt-in\n",
    "params = algod_client.suggested_params()\n",
    "# comment these two lines if you want to use suggested params\n",
    "# params.fee = 1000\n",
    "# params.flat_fee = True\n",
    "\n",
    "account_info = algod_client.account_info(accounts[2]['pk'])\n",
    "holding = None\n",
    "idx = 0\n",
    "for my_account_info in account_info['assets']:\n",
    "    scrutinized_asset = account_info['assets'][idx]\n",
    "    idx = idx + 1    \n",
    "    if (scrutinized_asset['asset-id'] == asset_id):\n",
    "        holding = True\n",
    "        break\n",
    "\n",
    "if not holding:\n",
    "\n",
    "    # Use the AssetTransferTxn class to transfer assets and opt-in\n",
    "    txn = AssetTransferTxn(\n",
    "        sender=accounts[2]['pk'],\n",
    "        sp=params,\n",
    "        receiver=accounts[2][\"pk\"],\n",
    "        amt=0,\n",
    "        index=asset_id)\n",
    "    stxn = txn.sign(accounts[2]['sk'])\n",
    "    # Send the transaction to the network and retrieve the txid.\n",
    "    try:\n",
    "        txid = algod_client.send_transaction(stxn)\n",
    "        print(\"Signed transaction with txID: {}\".format(txid))\n",
    "        # Wait for the transaction to be confirmed\n",
    "        confirmed_txn = wait_for_confirmation(algod_client, txid, 4) \n",
    "        print(\"TXID: \", txid)\n",
    "        print(\"Result confirmed in round: {}\".format(confirmed_txn['confirmed-round']))\n",
    " \n",
    "    except Exception as err:\n",
    "        print(err)\n",
    "    # Now check the asset holding for that account.\n",
    "    # This should now show a holding with a balance of 0.\n",
    "    print_asset_holding(algod_client, accounts[3]['pk'], asset_id)\n"
   ]
  },
  {
   "cell_type": "markdown",
   "metadata": {},
   "source": [
    "# Asset Transfer"
   ]
  },
  {
   "cell_type": "code",
   "execution_count": 22,
   "metadata": {},
   "outputs": [
    {
     "name": "stdout",
     "output_type": "stream",
     "text": [
      "Signed transaction with txID: KSLWG7KWC3LAF54XS3VRVAGNDQEKB5UVS32BKRT6SKVQMFAY3SPA\n",
      "TXID:  KSLWG7KWC3LAF54XS3VRVAGNDQEKB5UVS32BKRT6SKVQMFAY3SPA\n",
      "Result confirmed in round: 5\n",
      "Asset ID: 1002\n",
      "{\n",
      "    \"amount\": 200,\n",
      "    \"asset-id\": 1002,\n",
      "    \"is-frozen\": false\n",
      "}\n"
     ]
    }
   ],
   "source": [
    "# transfer asset of 10 from account 1 to account 3\n",
    "params = algod_client.suggested_params()\n",
    "# comment these two lines if you want to use suggested params\n",
    "# params.fee = 1000\n",
    "# params.flat_fee = True\n",
    "txn = AssetTransferTxn(\n",
    "    sender=accounts[1]['pk'],\n",
    "    sp=params,\n",
    "    receiver=accounts[2][\"pk\"],\n",
    "    amt=100,\n",
    "    index=asset_id)\n",
    "stxn = txn.sign(accounts[1]['sk'])\n",
    "# Send the transaction to the network and retrieve the txid.\n",
    "try:\n",
    "    txid = algod_client.send_transaction(stxn)\n",
    "    print(\"Signed transaction with txID: {}\".format(txid))\n",
    "    # Wait for the transaction to be confirmed\n",
    "    confirmed_txn = wait_for_confirmation(algod_client, txid, 4) \n",
    "    print(\"TXID: \", txid)\n",
    "    print(\"Result confirmed in round: {}\".format(confirmed_txn['confirmed-round']))\n",
    "\n",
    "except Exception as err:\n",
    "    print(err)\n",
    "# The balance should now be 10.\n",
    "print_asset_holding(algod_client, accounts[2]['pk'], asset_id)\n"
   ]
  },
  {
   "cell_type": "markdown",
   "metadata": {},
   "source": [
    "# Asset Freeze"
   ]
  },
  {
   "cell_type": "code",
   "execution_count": 31,
   "metadata": {},
   "outputs": [
    {
     "name": "stdout",
     "output_type": "stream",
     "text": [
      "Signed transaction with txID: IEUTUBXS5JWOU6EUWOPO77ZGTSBBJEXCAHUU6T3WLK7MK2RGONDA\n"
     ]
    },
    {
     "name": "stdout",
     "output_type": "stream",
     "text": [
      "TXID:  IEUTUBXS5JWOU6EUWOPO77ZGTSBBJEXCAHUU6T3WLK7MK2RGONDA\n",
      "Result confirmed in round: 8\n"
     ]
    }
   ],
   "source": [
    "params = algod_client.suggested_params()\n",
    "\n",
    "# The freeze address (Account 2) freezes Account 3's latinum holdings.\n",
    "\n",
    "txn = AssetFreezeTxn(\n",
    "    sender=accounts[1]['pk'],\n",
    "    sp=params,\n",
    "    index=asset_id,\n",
    "    target=accounts[2][\"pk\"],\n",
    "    new_freeze_state=True   \n",
    "    )\n",
    "stxn = txn.sign(accounts[1]['sk'])\n",
    "# Send the transaction to the network and retrieve the txid.\n",
    "try:\n",
    "    txid = algod_client.send_transaction(stxn)\n",
    "    print(\"Signed transaction with txID: {}\".format(txid))\n",
    "    # Wait for the transaction to be confirmed\n",
    "    confirmed_txn = wait_for_confirmation(algod_client, txid, 4)  \n",
    "    print(\"TXID: \", txid)\n",
    "    print(\"Result confirmed in round: {}\".format(confirmed_txn['confirmed-round']))    \n",
    "except Exception as err:\n",
    "    print(err)\n",
    "# The balance should now be 10 with frozen set to true.\n",
    "print_asset_holding(algod_client, accounts[3]['pk'], asset_id)"
   ]
  },
  {
   "cell_type": "markdown",
   "metadata": {},
   "source": [
    "# Revoke Asset"
   ]
  },
  {
   "cell_type": "code",
   "execution_count": 37,
   "metadata": {},
   "outputs": [
    {
     "name": "stdout",
     "output_type": "stream",
     "text": [
      "Signed transaction with txID: TVP7XPVKHTIMMVDO3TNMHO6SCXMA2QZDQAJACXQQSG24JA5LAUTQ\n",
      "TXID:  TVP7XPVKHTIMMVDO3TNMHO6SCXMA2QZDQAJACXQQSG24JA5LAUTQ\n",
      "Result confirmed in round: 10\n",
      "Account 2\n",
      "Asset ID: 1002\n",
      "{\n",
      "    \"amount\": 0,\n",
      "    \"asset-id\": 1002,\n",
      "    \"is-frozen\": true\n",
      "}\n",
      "Account 1\n",
      "Asset ID: 1002\n",
      "{\n",
      "    \"amount\": 1000,\n",
      "    \"asset-id\": 1002,\n",
      "    \"is-frozen\": false\n",
      "}\n"
     ]
    }
   ],
   "source": [
    "# The clawback address (Account 2) revokes 10 latinum from Account 3 and places it back with Account 1.\n",
    "params = algod_client.suggested_params()\n",
    "# comment these two lines if you want to use suggested params\n",
    "# params.fee = 1000\n",
    "# params.flat_fee = True\n",
    "\n",
    "# Must be signed by the account that is the Asset's clawback address\n",
    "txn = AssetTransferTxn(\n",
    "    sender=accounts[1]['pk'],\n",
    "    sp=params,\n",
    "    receiver=accounts[1][\"pk\"],\n",
    "    amt=100,\n",
    "    index=asset_id,\n",
    "    revocation_target=accounts[2]['pk']\n",
    "    )\n",
    "stxn = txn.sign(accounts[1]['sk'])\n",
    "# Send the transaction to the network and retrieve the txid.\n",
    "try:\n",
    "    txid = algod_client.send_transaction(stxn)\n",
    "    print(\"Signed transaction with txID: {}\".format(txid))\n",
    "    # Wait for the transaction to be confirmed\n",
    "    confirmed_txn = wait_for_confirmation(algod_client, txid, 4)\n",
    "    print(\"TXID: \", txid)\n",
    "    print(\"Result confirmed in round: {}\".format(confirmed_txn['confirmed-round']))      \n",
    "except Exception as err:\n",
    "    print(err)\n",
    "# The balance of account 2 should now be 0.\n",
    "# account_info = algod_client.account_info(accounts[2]['pk'])\n",
    "print(\"Account 2\")\n",
    "print_asset_holding(algod_client, accounts[2]['pk'], asset_id)\n",
    "\n",
    "# The balance of account 1 should increase by 200 to 1000.\n",
    "print(\"Account 1\")\n",
    "print_asset_holding(algod_client, accounts[1]['pk'], asset_id)"
   ]
  },
  {
   "cell_type": "markdown",
   "metadata": {},
   "source": [
    "# Destroy Asset"
   ]
  },
  {
   "cell_type": "code",
   "execution_count": 38,
   "metadata": {},
   "outputs": [
    {
     "name": "stdout",
     "output_type": "stream",
     "text": [
      "Signed transaction with txID: TWG45OIJ4NSU3UYUITQ5NR77T2RKW2OCHTDCX3I7BLVZYNPP7HPA\n",
      "TXID:  TWG45OIJ4NSU3UYUITQ5NR77T2RKW2OCHTDCX3I7BLVZYNPP7HPA\n",
      "Result confirmed in round: 11\n",
      "Account 2 must do a transaction for an amount of 0, \n",
      "with a close_assets_to to the creator account, to clear it from its accountholdings\n",
      "For Account 1, nothing should print after this as the asset is destroyed on the creator account\n"
     ]
    }
   ],
   "source": [
    "# With all assets back in the creator's account,\n",
    "# the manager (Account 3) destroys the asset.\n",
    "params = algod_client.suggested_params()\n",
    "# comment these two lines if you want to use suggested params\n",
    "# params.fee = 1000\n",
    "# params.flat_fee = True\n",
    "\n",
    "# Asset destroy transaction\n",
    "txn = AssetConfigTxn(\n",
    "    sender=accounts[3]['pk'],\n",
    "    sp=params,\n",
    "    index=asset_id,\n",
    "    strict_empty_address_check=False\n",
    "    )\n",
    "\n",
    "# Sign with secret key of creator\n",
    "stxn = txn.sign(accounts[3]['sk'])\n",
    "# Send the transaction to the network and retrieve the txid.\n",
    "# Send the transaction to the network and retrieve the txid.\n",
    "try:\n",
    "    txid = algod_client.send_transaction(stxn)\n",
    "    print(\"Signed transaction with txID: {}\".format(txid))\n",
    "    # Wait for the transaction to be confirmed\n",
    "    confirmed_txn = wait_for_confirmation(algod_client, txid, 4) \n",
    "    print(\"TXID: \", txid)\n",
    "    print(\"Result confirmed in round: {}\".format(confirmed_txn['confirmed-round']))     \n",
    "except Exception as err:\n",
    "    print(err)\n",
    "\n",
    "# Asset was deleted.\n",
    "try:\n",
    "    print(\"Account 2 must do a transaction for an amount of 0, \" )\n",
    "    print(\"with a close_assets_to to the creator account, to clear it from its accountholdings\")\n",
    "    print(\"For Account 1, nothing should print after this as the asset is destroyed on the creator account\")\n",
    "   \n",
    "    print_asset_holding(algod_client, accounts[1]['pk'], asset_id)\n",
    "    print_created_asset(algod_client, accounts[1]['pk'], asset_id)\n",
    "    # asset_info = algod_client.asset_info(asset_id)\n",
    "except Exception as e:\n",
    "    print(e)"
   ]
  }
 ],
 "metadata": {
  "kernelspec": {
   "display_name": "Python 3 (ipykernel)",
   "language": "python",
   "name": "python3"
  },
  "language_info": {
   "codemirror_mode": {
    "name": "ipython",
    "version": 3
   },
   "file_extension": ".py",
   "mimetype": "text/x-python",
   "name": "python",
   "nbconvert_exporter": "python",
   "pygments_lexer": "ipython3",
   "version": "3.10.12"
  },
  "vscode": {
   "interpreter": {
    "hash": "6b82b825d5d4833af3b1c89f0eb6563ff3c71e7496afb1979116998712d4e4f0"
   }
  }
 },
 "nbformat": 4,
 "nbformat_minor": 4
}
