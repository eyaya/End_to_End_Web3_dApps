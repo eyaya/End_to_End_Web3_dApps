{
 "cells": [
  {
   "cell_type": "code",
   "execution_count": 3,
   "metadata": {},
   "outputs": [],
   "source": [
    "# Importing necessary modules\n",
    "from algosdk import account, mnemonic, transaction, constants\n",
    "from algosdk.v2client import algod\n",
    "import os\n",
    "from dotenv import load_dotenv"
   ]
  },
  {
   "cell_type": "markdown",
   "metadata": {},
   "source": [
    "### Create an Algorand Test account"
   ]
  },
  {
   "cell_type": "code",
   "execution_count": 4,
   "metadata": {},
   "outputs": [
    {
     "name": "stdout",
     "output_type": "stream",
     "text": [
      "Public address: ZXD5BWZ5TAOCMGWRSIB7JYMIC5CVGNH7XZCBJLMHW3URS5YJIUV2TPLGKI\n"
     ]
    }
   ],
   "source": [
    "# This function generates an algorand test account, returns a private and public key\n",
    "\n",
    "testPrivateKey, testPublicKey = account.generate_account()\n",
    "\n",
    "print(\"Public address: {}\".format(testPublicKey))"
   ]
  },
  {
   "cell_type": "markdown",
   "metadata": {},
   "source": [
    "### More Test Accounts"
   ]
  },
  {
   "cell_type": "markdown",
   "metadata": {},
   "source": [
    "Connection to Algorand `dev` network comes with preconfigured accounts. We load them here."
   ]
  },
  {
   "cell_type": "code",
   "execution_count": 5,
   "metadata": {},
   "outputs": [],
   "source": [
    "load_dotenv()\n",
    "preconPubKey01 = os.getenv('PreconfigPublicKey1')\n",
    "preconPass01 = os.getenv('PreconfigPassphrase1')\n",
    "preconPubKey02 = os.getenv('PreconfigPublicKey2')\n",
    "preconPass02 = os.getenv('PreconfigPassphrase2')\n",
    "preconPubKey03 = os.getenv('PreconfigPublicKey3')\n",
    "preconPass03 = os.getenv('PreconfigPassphrase3')"
   ]
  },
  {
   "cell_type": "code",
   "execution_count": 6,
   "metadata": {},
   "outputs": [
    {
     "name": "stdout",
     "output_type": "stream",
     "text": [
      "Public address: None\n"
     ]
    }
   ],
   "source": [
    "print(\"Public address: {}\".format(preconPubKey01))"
   ]
  },
  {
   "cell_type": "code",
   "execution_count": 7,
   "metadata": {},
   "outputs": [
    {
     "ename": "AttributeError",
     "evalue": "'NoneType' object has no attribute 'lower'",
     "output_type": "error",
     "traceback": [
      "\u001b[0;31m---------------------------------------------------------------------------\u001b[0m",
      "\u001b[0;31mAttributeError\u001b[0m                            Traceback (most recent call last)",
      "Cell \u001b[0;32mIn[7], line 2\u001b[0m\n\u001b[1;32m      1\u001b[0m \u001b[38;5;66;03m# We use the passphrase to get the corresponding private key\u001b[39;00m\n\u001b[0;32m----> 2\u001b[0m preconPrivKey01 \u001b[38;5;241m=\u001b[39m \u001b[43mmnemonic\u001b[49m\u001b[38;5;241;43m.\u001b[39;49m\u001b[43mto_private_key\u001b[49m\u001b[43m(\u001b[49m\u001b[43mpreconPass01\u001b[49m\u001b[43m)\u001b[49m\n\u001b[1;32m      3\u001b[0m preconPrivKey02 \u001b[38;5;241m=\u001b[39m mnemonic\u001b[38;5;241m.\u001b[39mto_private_key(preconPass02)\n\u001b[1;32m      4\u001b[0m preconPrivKey03 \u001b[38;5;241m=\u001b[39m mnemonic\u001b[38;5;241m.\u001b[39mto_private_key(preconPass03)\n",
      "File \u001b[0;32m~/.local/lib/python3.10/site-packages/algosdk/mnemonic.py:76\u001b[0m, in \u001b[0;36mto_private_key\u001b[0;34m(mnemonic)\u001b[0m\n\u001b[1;32m     66\u001b[0m \u001b[38;5;28;01mdef\u001b[39;00m \u001b[38;5;21mto_private_key\u001b[39m(mnemonic):\n\u001b[1;32m     67\u001b[0m \u001b[38;5;250m    \u001b[39m\u001b[38;5;124;03m\"\"\"\u001b[39;00m\n\u001b[1;32m     68\u001b[0m \u001b[38;5;124;03m    Return the private key for the mnemonic.\u001b[39;00m\n\u001b[1;32m     69\u001b[0m \n\u001b[0;32m   (...)\u001b[0m\n\u001b[1;32m     74\u001b[0m \u001b[38;5;124;03m        str: private key in base64\u001b[39;00m\n\u001b[1;32m     75\u001b[0m \u001b[38;5;124;03m    \"\"\"\u001b[39;00m\n\u001b[0;32m---> 76\u001b[0m     key_bytes \u001b[38;5;241m=\u001b[39m \u001b[43m_to_key\u001b[49m\u001b[43m(\u001b[49m\u001b[43mmnemonic\u001b[49m\u001b[43m)\u001b[49m\n\u001b[1;32m     77\u001b[0m     key \u001b[38;5;241m=\u001b[39m signing\u001b[38;5;241m.\u001b[39mSigningKey(key_bytes)\n\u001b[1;32m     78\u001b[0m     \u001b[38;5;28;01mreturn\u001b[39;00m base64\u001b[38;5;241m.\u001b[39mb64encode(key\u001b[38;5;241m.\u001b[39mencode() \u001b[38;5;241m+\u001b[39m key\u001b[38;5;241m.\u001b[39mverify_key\u001b[38;5;241m.\u001b[39mencode())\u001b[38;5;241m.\u001b[39mdecode()\n",
      "File \u001b[0;32m~/.local/lib/python3.10/site-packages/algosdk/mnemonic.py:109\u001b[0m, in \u001b[0;36m_to_key\u001b[0;34m(mnemonic)\u001b[0m\n\u001b[1;32m     99\u001b[0m \u001b[38;5;28;01mdef\u001b[39;00m \u001b[38;5;21m_to_key\u001b[39m(mnemonic):\n\u001b[1;32m    100\u001b[0m \u001b[38;5;250m    \u001b[39m\u001b[38;5;124;03m\"\"\"\u001b[39;00m\n\u001b[1;32m    101\u001b[0m \u001b[38;5;124;03m    Give the corresponding key for the mnemonic.\u001b[39;00m\n\u001b[1;32m    102\u001b[0m \n\u001b[0;32m   (...)\u001b[0m\n\u001b[1;32m    107\u001b[0m \u001b[38;5;124;03m        bytes: key\u001b[39;00m\n\u001b[1;32m    108\u001b[0m \u001b[38;5;124;03m    \"\"\"\u001b[39;00m\n\u001b[0;32m--> 109\u001b[0m     mnemonic \u001b[38;5;241m=\u001b[39m \u001b[43mmnemonic\u001b[49m\u001b[38;5;241;43m.\u001b[39;49m\u001b[43mlower\u001b[49m()\u001b[38;5;241m.\u001b[39msplit()\n\u001b[1;32m    110\u001b[0m     \u001b[38;5;28;01mif\u001b[39;00m \u001b[38;5;129;01mnot\u001b[39;00m \u001b[38;5;28mlen\u001b[39m(mnemonic) \u001b[38;5;241m==\u001b[39m constants\u001b[38;5;241m.\u001b[39mmnemonic_len:\n\u001b[1;32m    111\u001b[0m         \u001b[38;5;28;01mraise\u001b[39;00m error\u001b[38;5;241m.\u001b[39mWrongMnemonicLengthError\n",
      "\u001b[0;31mAttributeError\u001b[0m: 'NoneType' object has no attribute 'lower'"
     ]
    }
   ],
   "source": [
    "# We use the passphrase to get the corresponding private key\n",
    "preconPrivKey01 = mnemonic.to_private_key(preconPass01)\n",
    "preconPrivKey02 = mnemonic.to_private_key(preconPass02)\n",
    "preconPrivKey03 = mnemonic.to_private_key(preconPass03)"
   ]
  },
  {
   "cell_type": "markdown",
   "metadata": {},
   "source": [
    "## Connect to Client"
   ]
  },
  {
   "cell_type": "code",
   "execution_count": 8,
   "metadata": {},
   "outputs": [],
   "source": [
    "algod_address = \"http://localhost:4001\" \n",
    "algod_token = \"aaaaaaaaaaaaaaaaaaaaaaaaaaaaaaaaaaaaaaaaaaaaaaaaaaaaaaaaaaaaaaaa\" \n",
    "algod_client = algod.AlgodClient(algod_token, algod_address)"
   ]
  },
  {
   "cell_type": "code",
   "execution_count": 9,
   "metadata": {},
   "outputs": [
    {
     "name": "stdout",
     "output_type": "stream",
     "text": [
      "Public address: ZXD5BWZ5TAOCMGWRSIB7JYMIC5CVGNH7XZCBJLMHW3URS5YJIUV2TPLGKI\n",
      "Account balance: 0 microAlgos\n",
      "\n"
     ]
    },
    {
     "ename": "TypeError",
     "evalue": "can only concatenate str (not \"NoneType\") to str",
     "output_type": "error",
     "traceback": [
      "\u001b[0;31m---------------------------------------------------------------------------\u001b[0m",
      "\u001b[0;31mTypeError\u001b[0m                                 Traceback (most recent call last)",
      "Cell \u001b[0;32mIn[9], line 6\u001b[0m\n\u001b[1;32m      3\u001b[0m \u001b[38;5;28mprint\u001b[39m(\u001b[38;5;124m\"\u001b[39m\u001b[38;5;124mPublic address: \u001b[39m\u001b[38;5;132;01m{}\u001b[39;00m\u001b[38;5;124m\"\u001b[39m\u001b[38;5;241m.\u001b[39mformat(testPublicKey))\n\u001b[1;32m      4\u001b[0m \u001b[38;5;28mprint\u001b[39m(\u001b[38;5;124m\"\u001b[39m\u001b[38;5;124mAccount balance: \u001b[39m\u001b[38;5;132;01m{}\u001b[39;00m\u001b[38;5;124m microAlgos\u001b[39m\u001b[38;5;124m\"\u001b[39m\u001b[38;5;241m.\u001b[39mformat(account_info\u001b[38;5;241m.\u001b[39mget(\u001b[38;5;124m'\u001b[39m\u001b[38;5;124mamount\u001b[39m\u001b[38;5;124m'\u001b[39m)) \u001b[38;5;241m+\u001b[39m \u001b[38;5;124m\"\u001b[39m\u001b[38;5;130;01m\\n\u001b[39;00m\u001b[38;5;124m\"\u001b[39m)\n\u001b[0;32m----> 6\u001b[0m account_info \u001b[38;5;241m=\u001b[39m \u001b[43malgod_client\u001b[49m\u001b[38;5;241;43m.\u001b[39;49m\u001b[43maccount_info\u001b[49m\u001b[43m(\u001b[49m\u001b[43mpreconPubKey01\u001b[49m\u001b[43m)\u001b[49m\n\u001b[1;32m      7\u001b[0m \u001b[38;5;28mprint\u001b[39m(\u001b[38;5;124m\"\u001b[39m\u001b[38;5;124mPublic address: \u001b[39m\u001b[38;5;132;01m{}\u001b[39;00m\u001b[38;5;124m\"\u001b[39m\u001b[38;5;241m.\u001b[39mformat(preconPubKey01))\n\u001b[1;32m      8\u001b[0m \u001b[38;5;28mprint\u001b[39m(\u001b[38;5;124m\"\u001b[39m\u001b[38;5;124mAccount balance: \u001b[39m\u001b[38;5;132;01m{}\u001b[39;00m\u001b[38;5;124m microAlgos\u001b[39m\u001b[38;5;124m\"\u001b[39m\u001b[38;5;241m.\u001b[39mformat(account_info\u001b[38;5;241m.\u001b[39mget(\u001b[38;5;124m'\u001b[39m\u001b[38;5;124mamount\u001b[39m\u001b[38;5;124m'\u001b[39m)) \u001b[38;5;241m+\u001b[39m \u001b[38;5;124m\"\u001b[39m\u001b[38;5;130;01m\\n\u001b[39;00m\u001b[38;5;124m\"\u001b[39m)\n",
      "File \u001b[0;32m~/.local/lib/python3.10/site-packages/algosdk/v2client/algod.py:148\u001b[0m, in \u001b[0;36mAlgodClient.account_info\u001b[0;34m(self, address, exclude, **kwargs)\u001b[0m\n\u001b[1;32m    146\u001b[0m \u001b[38;5;28;01mif\u001b[39;00m exclude:\n\u001b[1;32m    147\u001b[0m     query[\u001b[38;5;124m\"\u001b[39m\u001b[38;5;124mexclude\u001b[39m\u001b[38;5;124m\"\u001b[39m] \u001b[38;5;241m=\u001b[39m exclude\n\u001b[0;32m--> 148\u001b[0m req \u001b[38;5;241m=\u001b[39m \u001b[38;5;124;43m\"\u001b[39;49m\u001b[38;5;124;43m/accounts/\u001b[39;49m\u001b[38;5;124;43m\"\u001b[39;49m\u001b[43m \u001b[49m\u001b[38;5;241;43m+\u001b[39;49m\u001b[43m \u001b[49m\u001b[43maddress\u001b[49m\n\u001b[1;32m    149\u001b[0m \u001b[38;5;28;01mreturn\u001b[39;00m \u001b[38;5;28mself\u001b[39m\u001b[38;5;241m.\u001b[39malgod_request(\u001b[38;5;124m\"\u001b[39m\u001b[38;5;124mGET\u001b[39m\u001b[38;5;124m\"\u001b[39m, req, query, \u001b[38;5;241m*\u001b[39m\u001b[38;5;241m*\u001b[39mkwargs)\n",
      "\u001b[0;31mTypeError\u001b[0m: can only concatenate str (not \"NoneType\") to str"
     ]
    }
   ],
   "source": [
    "# Check the account balance for two of the account we have\n",
    "account_info = algod_client.account_info(testPublicKey)\n",
    "print(\"Public address: {}\".format(testPublicKey))\n",
    "print(\"Account balance: {} microAlgos\".format(account_info.get('amount')) + \"\\n\")\n",
    "\n",
    "account_info = algod_client.account_info(preconPubKey01)\n",
    "print(\"Public address: {}\".format(preconPubKey01))\n",
    "print(\"Account balance: {} microAlgos\".format(account_info.get('amount')) + \"\\n\")"
   ]
  },
  {
   "cell_type": "markdown",
   "metadata": {},
   "source": [
    "## Build the transaction"
   ]
  },
  {
   "cell_type": "code",
   "execution_count": 9,
   "metadata": {},
   "outputs": [],
   "source": [
    "# we are going to send 1 Algo from first preconfigured account to test account\n",
    "\n",
    "sender_PubKey = preconPubKey01\n",
    "sender_PrivKey = preconPrivKey01\n",
    "\n",
    "receiver_PubKey = testPublicKey"
   ]
  },
  {
   "cell_type": "code",
   "execution_count": 10,
   "metadata": {},
   "outputs": [
    {
     "name": "stdout",
     "output_type": "stream",
     "text": [
      "Sender initial balance: 4000000000000000 microAlgos\n",
      "\n",
      "Receiver initial balance: 0 microAlgos\n",
      "\n"
     ]
    }
   ],
   "source": [
    "account_info = algod_client.account_info(sender_PubKey)\n",
    "print(\"Sender initial balance: {} microAlgos\".format(account_info.get('amount')) + \"\\n\")\n",
    "\n",
    "account_info = algod_client.account_info(receiver_PubKey)\n",
    "print(\"Receiver initial balance: {} microAlgos\".format(account_info.get('amount')) + \"\\n\")"
   ]
  },
  {
   "cell_type": "code",
   "execution_count": 11,
   "metadata": {},
   "outputs": [],
   "source": [
    "# Transaction Prameters \n",
    "params = algod_client.suggested_params()\n",
    "params.flat_fee = True\n",
    "params.fee = constants.MIN_TXN_FEE \n",
    "note = \"Hello World\".encode()\n",
    "amount = 1000000\n",
    "\n",
    "# Build Transaction\n",
    "unsigned_txn = transaction.PaymentTxn(sender_PubKey, params, receiver_PubKey, amount, None, note)"
   ]
  },
  {
   "cell_type": "code",
   "execution_count": 12,
   "metadata": {},
   "outputs": [],
   "source": [
    "# sign transaction using private key of the sender\n",
    "\n",
    "signed_txn = unsigned_txn.sign(sender_PrivKey)"
   ]
  },
  {
   "cell_type": "markdown",
   "metadata": {},
   "source": [
    "## Submit and Confirm the Transaction"
   ]
  },
  {
   "cell_type": "markdown",
   "metadata": {},
   "source": [
    "At this moment the transaction has not yet been registered on Algorand (`dev`) network"
   ]
  },
  {
   "cell_type": "code",
   "execution_count": 13,
   "metadata": {},
   "outputs": [
    {
     "name": "stdout",
     "output_type": "stream",
     "text": [
      "Successfully sent transaction with txID: 4VKZ2DY3JKBKMFVD6QE3QF32KA3AU277NVRUTVBYIYYWPDEVTZOA\n"
     ]
    }
   ],
   "source": [
    "#submit transaction\n",
    "\n",
    "txid = algod_client.send_transaction(signed_txn)\n",
    "print(\"Successfully sent transaction with txID: {}\".format(txid))"
   ]
  },
  {
   "cell_type": "code",
   "execution_count": 14,
   "metadata": {},
   "outputs": [
    {
     "name": "stdout",
     "output_type": "stream",
     "text": [
      "Transaction information: {\n",
      "    \"confirmed-round\": 1,\n",
      "    \"pool-error\": \"\",\n",
      "    \"txn\": {\n",
      "        \"sig\": \"C1STzJk96Fh/sHzPYbJa4gdGjUOYBdUC0LHHOHo2bqIfiASNqQIXeNVVxmtYeX4riG4oAM466h0FbzTWgdlXDA==\",\n",
      "        \"txn\": {\n",
      "            \"amt\": 1000000,\n",
      "            \"fee\": 1000,\n",
      "            \"gen\": \"sandnet-v1\",\n",
      "            \"gh\": \"1Av0Ow3cvZTlmk8Nl+rYpdaYl8sFmSD4gie6oNNsKOA=\",\n",
      "            \"lv\": 1000,\n",
      "            \"note\": \"SGVsbG8gV29ybGQ=\",\n",
      "            \"rcv\": \"IZ3BY7RKGHX6HL5HJKUICQPZQD4X5K3JADPQFJ5R7UAG4NB2BA2XQJP5ME\",\n",
      "            \"snd\": \"BOBMBO72PB2AM4RBSHB7B3ZZML2AW4SDIUFKJ3YLCPSDKNO3FOCRMN7H2A\",\n",
      "            \"type\": \"pay\"\n",
      "        }\n",
      "    }\n",
      "}\n",
      "Decoded note: Hello World\n",
      "Starting Account balance: 0 microAlgos\n",
      "Amount transfered: 1000000 microAlgos\n",
      "Fee: 1000 microAlgos\n"
     ]
    }
   ],
   "source": [
    "# wait for confirmation \n",
    "try:\n",
    "    confirmed_txn = transaction.wait_for_confirmation(algod_client, txid, 4)  \n",
    "except Exception as err:\n",
    "    print(err)\n",
    "    #return\n",
    "\n",
    "print(\"Transaction information: {}\".format(json.dumps(confirmed_txn, indent=4)))\n",
    "print(\"Decoded note: {}\".format(base64.b64decode(confirmed_txn[\"txn\"][\"txn\"][\"note\"]).decode()))\n",
    "print(\"Starting Account balance: {} microAlgos\".format(account_info.get('amount')) )\n",
    "print(\"Amount transfered: {} microAlgos\".format(amount) )    \n",
    "print(\"Fee: {} microAlgos\".format(params.fee) ) "
   ]
  },
  {
   "cell_type": "code",
   "execution_count": 15,
   "metadata": {},
   "outputs": [
    {
     "name": "stdout",
     "output_type": "stream",
     "text": [
      "Sender final balance: 3999999998999000 microAlgos\n",
      "\n",
      "Receiver final balance: 1000000 microAlgos\n",
      "\n"
     ]
    }
   ],
   "source": [
    "account_info = algod_client.account_info(sender_PubKey)\n",
    "print(\"Sender final balance: {} microAlgos\".format(account_info.get('amount')) + \"\\n\")\n",
    "\n",
    "account_info = algod_client.account_info(receiver_PubKey)\n",
    "print(\"Receiver final balance: {} microAlgos\".format(account_info.get('amount')) + \"\\n\")"
   ]
  },
  {
   "cell_type": "markdown",
   "metadata": {},
   "source": [
    "transaction has been successfuly registered on Algorand network!"
   ]
  },
  {
   "cell_type": "markdown",
   "metadata": {},
   "source": []
  }
 ],
 "metadata": {
  "kernelspec": {
   "display_name": "Python 3 (ipykernel)",
   "language": "python",
   "name": "python3"
  },
  "language_info": {
   "codemirror_mode": {
    "name": "ipython",
    "version": 3
   },
   "file_extension": ".py",
   "mimetype": "text/x-python",
   "name": "python",
   "nbconvert_exporter": "python",
   "pygments_lexer": "ipython3",
   "version": "3.10.12"
  },
  "vscode": {
   "interpreter": {
    "hash": "6b82b825d5d4833af3b1c89f0eb6563ff3c71e7496afb1979116998712d4e4f0"
   }
  }
 },
 "nbformat": 4,
 "nbformat_minor": 4
}
